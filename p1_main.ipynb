{
 "cells": [
  {
   "cell_type": "code",
   "execution_count": 1,
   "id": "12d6cf52",
   "metadata": {},
   "outputs": [
    {
     "name": "stdout",
     "output_type": "stream",
     "text": [
      "1.a: Best case, SVM on entire train data\n",
      "Accuracy score: 0.825\n",
      "1.b: SVM on 2*L train data\n",
      "Accuracy score: [0.585, 0.585, 0.65, 0.645, 0.72, 0.745, 0.745, 0.81, 0.79, 0.8]\n",
      "1.c: S3VM on 2*L train data\n",
      "Accuracy score: [0.72, 0.625, 0.72, 0.73, 0.755, 0.77, 0.77, 0.77, 0.77, 0.77]\n"
     ]
    },
    {
     "data": {
      "image/png": "[encoded data removed]",
      "text/plain": [
       "<Figure size 432x288 with 1 Axes>"
      ]
     },
     "metadata": {
      "needs_background": "light"
     },
     "output_type": "display_data"
    },
    {
     "data": {
      "image/png": "[encoded data removed]",
      "text/plain": [
       "<Figure size 432x288 with 1 Axes>"
      ]
     },
     "metadata": {
      "needs_background": "light"
     },
     "output_type": "display_data"
    }
   ],
   "source": [
    "# -*- coding: utf-8 -*-\n",
    "\"\"\"\n",
    "Created on Thu Dec  1 10:27:15 2022\n",
    "\n",
    "@author: Fcs10\n",
    "\"\"\"\n",
    "\n",
    "import warnings\n",
    "warnings.filterwarnings('ignore', category=PendingDeprecationWarning)\n",
    "from qns3vm import QN_S3VM\n",
    "import numpy as np\n",
    "import pandas as pd\n",
    "from matplotlib import pyplot as plt\n",
    "from sklearn.svm import SVC\n",
    "from sklearn.metrics import accuracy_score\n",
    "import random\n",
    "import warnings\n",
    "warnings.filterwarnings('ignore', category=PendingDeprecationWarning)\n",
    "\n",
    "\n",
    "train_data=pd.read_csv(\"F:/pythonProject/hw5/H5_Pr1_data/ssl_train_data.csv\")\n",
    "test_data=pd.read_csv(\"F:/pythonProject/hw5/H5_Pr1_data/ssl_train_data.csv\")\n",
    "\n",
    "\n",
    "train_data[\"class\"].replace(to_replace=0, value=-1, inplace=True)\n",
    "test_data[\"class\"].replace(to_replace=0, value=-1, inplace=True)\n",
    "\n",
    "\n",
    "Xtrain=train_data.iloc[:,:10]\n",
    "Ytrain=train_data.iloc[:,-1]\n",
    "Xtest=test_data.iloc[:,:10]\n",
    "Ytest=test_data.iloc[:,-1]\n",
    "\n",
    "model_a=SVC(C=1.0, kernel='linear')\n",
    "model_a=model_a.fit(Xtrain,Ytrain)\n",
    "Ypred_a=model_a.predict(Xtest)\n",
    "score_a=accuracy_score(Ytest,Ypred_a)\n",
    "print(\"1.a: Best case, SVM on entire train data\")\n",
    "print(\"Accuracy score: {}\".format(score_a))\n",
    "a=str(score_a)\n",
    "\n",
    "\n",
    "\n",
    "L=np.arange(1,11)\n",
    "score_b=[]\n",
    "for l in L:\n",
    "    X_train=Xtrain.iloc[:2*l,:]\n",
    "    Y_train=Ytrain.iloc[:2*l]\n",
    "    model_b=SVC(C=1.0, kernel='linear')\n",
    "    model_b=model_b.fit(X_train,Y_train)\n",
    "    Ypred_b=model_b.predict(Xtest)\n",
    "    score=accuracy_score(Ytest,Ypred_b)\n",
    "    score_b.append(score)\n",
    "print(\"1.b: SVM on 2*L train data\")\n",
    "print(\"Accuracy score: {}\".format(score_b))\n",
    "\n",
    "\n",
    "\n",
    "\n",
    "my_random_generator = random.Random()\n",
    "my_random_generator.seed(0)\n",
    "score_c=[]\n",
    "for l in L:\n",
    "    X_train_l=Xtrain.iloc[:2*l,:].values.tolist()\n",
    "    X_train_u=Xtrain.iloc[2*l:,:].values.tolist()\n",
    "    Y_train_l=Ytrain.iloc[:2*l].values.tolist()\n",
    "    model_c=QN_S3VM(X_train_l,Y_train_l,X_train_u,my_random_generator,kernel_type=\"Linear\",lam=1.0)\n",
    "    model_c.train()\n",
    "    Ypred_c=model_c.getPredictions(Xtest)\n",
    "    score=accuracy_score(Ytest,Ypred_c)\n",
    "    score_c.append(score)\n",
    "print(\"1.c: S3VM on 2*L train data\")\n",
    "print(\"Accuracy score: {}\".format(score_c))\n",
    "\n",
    "a=str(score_a)\n",
    "b=str(score_b)\n",
    "c=str(score_c)\n",
    "file=open(\"answer.txt\",mode='w')\n",
    "file.write(\"1.a: Best case, SVM on entire train data\\n\")\n",
    "file.write(\"accuracy score:\")\n",
    "file.write(a)\n",
    "file.write(\"\\n\\n\")\n",
    "file.write(\"1.b: SVM on 2*L train data\\n\")\n",
    "file.write(\"accuracy score:\")\n",
    "file.write(b)\n",
    "file.write(\"\\n\\n\")\n",
    "file.write(\"1.c: S3VM on 2*L train data\\n\")\n",
    "file.write(\"accuracy score:\")\n",
    "file.write(c)\n",
    "file.close()\n",
    "\n",
    "\n",
    "X_axis=np.arange(len(2*L))\n",
    "plt.bar(X_axis - 0.2, score_b, 0.4, label = 'SVM')\n",
    "plt.bar(X_axis + 0.2, score_c, 0.4, label = 'S3VM')\n",
    "plt.xticks(X_axis, 2*L)\n",
    "plt.xlabel('N_L')\n",
    "plt.ylabel('accuracy')\n",
    "plt.legend()\n",
    "plt.show()\n",
    "\n",
    "\n",
    "plt.plot(2*L,score_b,'r',label='SVM')\n",
    "plt.plot(2*L,score_c,'g',label='S3VM')\n",
    "plt.xticks(2*L)\n",
    "plt.xlabel('N_L')\n",
    "plt.ylabel('accuracy')\n",
    "plt.legend()\n",
    "plt.show()\n",
    "\n"
   ]
  },
  {
   "cell_type": "code",
   "execution_count": null,
   "id": "d64f1d31",
   "metadata": {},
   "outputs": [],
   "source": []
  },
  {
   "cell_type": "code",
   "execution_count": null,
   "id": "11c5e4a8",
   "metadata": {},
   "outputs": [],
   "source": []
  }
 ],
 "metadata": {
  "kernelspec": {
   "display_name": "Python 3 (ipykernel)",
   "language": "python",
   "name": "python3"
  },
  "language_info": {
   "codemirror_mode": {
    "name": "ipython",
    "version": 3
   },
   "file_extension": ".py",
   "mimetype": "text/x-python",
   "name": "python",
   "nbconvert_exporter": "python",
   "pygments_lexer": "ipython3",
   "version": "3.9.12"
  }
 },
 "nbformat": 4,
 "nbformat_minor": 5
}
